{
 "cells": [
  {
   "cell_type": "code",
   "execution_count": 1,
   "id": "59a62a26-408b-4f85-8916-e7a6388cae9f",
   "metadata": {},
   "outputs": [],
   "source": [
    "import pandas as pd\n",
    "import seaborn as sns\n",
    "import numpy as np\n",
    "import matplotlib.pyplot as plt"
   ]
  },
  {
   "cell_type": "code",
   "execution_count": 2,
   "id": "57b6a2e0-76cc-4569-85b7-262b37bfbfca",
   "metadata": {},
   "outputs": [
    {
     "data": {
      "application/vnd.microsoft.datawrangler.viewer.v0+json": {
       "columns": [
        {
         "name": "index",
         "rawType": "int64",
         "type": "integer"
        },
        {
         "name": "Pelvic Incidence",
         "rawType": "float64",
         "type": "float"
        },
        {
         "name": "Pelvic Tilt",
         "rawType": "float64",
         "type": "float"
        },
        {
         "name": "Lumbar Lordosis Angle",
         "rawType": "float64",
         "type": "float"
        },
        {
         "name": "Sacral Slope",
         "rawType": "float64",
         "type": "float"
        },
        {
         "name": "Pelvic Radius",
         "rawType": "float64",
         "type": "float"
        },
        {
         "name": "Grade of Spondylolisthesis",
         "rawType": "float64",
         "type": "float"
        },
        {
         "name": "Class",
         "rawType": "object",
         "type": "string"
        }
       ],
       "conversionMethod": "pd.DataFrame",
       "ref": "046a58e6-b343-4154-9abc-866647b3cecd",
       "rows": [
        [
         "0",
         "63.03",
         "22.55",
         "39.61",
         "40.48",
         "98.67",
         "-0.25",
         "AB"
        ],
        [
         "1",
         "39.06",
         "10.06",
         "25.02",
         "29.0",
         "114.41",
         "4.56",
         "AB"
        ],
        [
         "2",
         "68.83",
         "22.22",
         "50.09",
         "46.61",
         "105.99",
         "-3.53",
         "AB"
        ],
        [
         "3",
         "69.3",
         "24.65",
         "44.31",
         "44.64",
         "101.87",
         "11.21",
         "AB"
        ],
        [
         "4",
         "49.71",
         "9.65",
         "28.32",
         "40.06",
         "108.17",
         "7.92",
         "AB"
        ]
       ],
       "shape": {
        "columns": 7,
        "rows": 5
       }
      },
      "text/html": [
       "<div>\n",
       "<style scoped>\n",
       "    .dataframe tbody tr th:only-of-type {\n",
       "        vertical-align: middle;\n",
       "    }\n",
       "\n",
       "    .dataframe tbody tr th {\n",
       "        vertical-align: top;\n",
       "    }\n",
       "\n",
       "    .dataframe thead th {\n",
       "        text-align: right;\n",
       "    }\n",
       "</style>\n",
       "<table border=\"1\" class=\"dataframe\">\n",
       "  <thead>\n",
       "    <tr style=\"text-align: right;\">\n",
       "      <th></th>\n",
       "      <th>Pelvic Incidence</th>\n",
       "      <th>Pelvic Tilt</th>\n",
       "      <th>Lumbar Lordosis Angle</th>\n",
       "      <th>Sacral Slope</th>\n",
       "      <th>Pelvic Radius</th>\n",
       "      <th>Grade of Spondylolisthesis</th>\n",
       "      <th>Class</th>\n",
       "    </tr>\n",
       "  </thead>\n",
       "  <tbody>\n",
       "    <tr>\n",
       "      <th>0</th>\n",
       "      <td>63.03</td>\n",
       "      <td>22.55</td>\n",
       "      <td>39.61</td>\n",
       "      <td>40.48</td>\n",
       "      <td>98.67</td>\n",
       "      <td>-0.25</td>\n",
       "      <td>AB</td>\n",
       "    </tr>\n",
       "    <tr>\n",
       "      <th>1</th>\n",
       "      <td>39.06</td>\n",
       "      <td>10.06</td>\n",
       "      <td>25.02</td>\n",
       "      <td>29.00</td>\n",
       "      <td>114.41</td>\n",
       "      <td>4.56</td>\n",
       "      <td>AB</td>\n",
       "    </tr>\n",
       "    <tr>\n",
       "      <th>2</th>\n",
       "      <td>68.83</td>\n",
       "      <td>22.22</td>\n",
       "      <td>50.09</td>\n",
       "      <td>46.61</td>\n",
       "      <td>105.99</td>\n",
       "      <td>-3.53</td>\n",
       "      <td>AB</td>\n",
       "    </tr>\n",
       "    <tr>\n",
       "      <th>3</th>\n",
       "      <td>69.30</td>\n",
       "      <td>24.65</td>\n",
       "      <td>44.31</td>\n",
       "      <td>44.64</td>\n",
       "      <td>101.87</td>\n",
       "      <td>11.21</td>\n",
       "      <td>AB</td>\n",
       "    </tr>\n",
       "    <tr>\n",
       "      <th>4</th>\n",
       "      <td>49.71</td>\n",
       "      <td>9.65</td>\n",
       "      <td>28.32</td>\n",
       "      <td>40.06</td>\n",
       "      <td>108.17</td>\n",
       "      <td>7.92</td>\n",
       "      <td>AB</td>\n",
       "    </tr>\n",
       "  </tbody>\n",
       "</table>\n",
       "</div>"
      ],
      "text/plain": [
       "   Pelvic Incidence  Pelvic Tilt  Lumbar Lordosis Angle  Sacral Slope  \\\n",
       "0             63.03        22.55                  39.61         40.48   \n",
       "1             39.06        10.06                  25.02         29.00   \n",
       "2             68.83        22.22                  50.09         46.61   \n",
       "3             69.30        24.65                  44.31         44.64   \n",
       "4             49.71         9.65                  28.32         40.06   \n",
       "\n",
       "   Pelvic Radius  Grade of Spondylolisthesis Class  \n",
       "0          98.67                       -0.25    AB  \n",
       "1         114.41                        4.56    AB  \n",
       "2         105.99                       -3.53    AB  \n",
       "3         101.87                       11.21    AB  \n",
       "4         108.17                        7.92    AB  "
      ]
     },
     "execution_count": 2,
     "metadata": {},
     "output_type": "execute_result"
    }
   ],
   "source": [
    "df = pd.read_csv('data.txt')\n",
    "df.head()"
   ]
  },
  {
   "cell_type": "code",
   "execution_count": 3,
   "id": "1a9f3bad-c772-42ec-80fe-daa16bcde01c",
   "metadata": {},
   "outputs": [
    {
     "name": "stdout",
     "output_type": "stream",
     "text": [
      "<class 'pandas.core.frame.DataFrame'>\n",
      "RangeIndex: 310 entries, 0 to 309\n",
      "Data columns (total 7 columns):\n",
      " #   Column                      Non-Null Count  Dtype  \n",
      "---  ------                      --------------  -----  \n",
      " 0   Pelvic Incidence            310 non-null    float64\n",
      " 1   Pelvic Tilt                 310 non-null    float64\n",
      " 2   Lumbar Lordosis Angle       310 non-null    float64\n",
      " 3   Sacral Slope                310 non-null    float64\n",
      " 4   Pelvic Radius               310 non-null    float64\n",
      " 5   Grade of Spondylolisthesis  310 non-null    float64\n",
      " 6   Class                       310 non-null    object \n",
      "dtypes: float64(6), object(1)\n",
      "memory usage: 17.1+ KB\n"
     ]
    }
   ],
   "source": [
    "df.info()"
   ]
  },
  {
   "cell_type": "code",
   "execution_count": 4,
   "id": "8defed2f-d69b-4406-96ca-e8f13054716e",
   "metadata": {},
   "outputs": [
    {
     "data": {
      "application/vnd.microsoft.datawrangler.viewer.v0+json": {
       "columns": [
        {
         "name": "index",
         "rawType": "object",
         "type": "string"
        },
        {
         "name": "Pelvic Incidence",
         "rawType": "float64",
         "type": "float"
        },
        {
         "name": "Pelvic Tilt",
         "rawType": "float64",
         "type": "float"
        },
        {
         "name": "Lumbar Lordosis Angle",
         "rawType": "float64",
         "type": "float"
        },
        {
         "name": "Sacral Slope",
         "rawType": "float64",
         "type": "float"
        },
        {
         "name": "Pelvic Radius",
         "rawType": "float64",
         "type": "float"
        },
        {
         "name": "Grade of Spondylolisthesis",
         "rawType": "float64",
         "type": "float"
        }
       ],
       "conversionMethod": "pd.DataFrame",
       "ref": "435efbe4-5598-4ff4-ab73-c3956fbd1eb0",
       "rows": [
        [
         "count",
         "310.0",
         "310.0",
         "310.0",
         "310.0",
         "310.0",
         "310.0"
        ],
        [
         "mean",
         "60.49648387096773",
         "17.542903225806448",
         "51.93070967741936",
         "42.953870967741935",
         "117.92054838709676",
         "26.296741935483873"
        ],
        [
         "std",
         "17.23610901392389",
         "10.008140050586714",
         "18.553765818074368",
         "13.422748158951526",
         "13.317629458385415",
         "37.55888304813064"
        ],
        [
         "min",
         "26.15",
         "-6.55",
         "14.0",
         "13.37",
         "70.08",
         "-11.06"
        ],
        [
         "25%",
         "46.4325",
         "10.6675",
         "37.0",
         "33.347500000000004",
         "110.71",
         "1.6"
        ],
        [
         "50%",
         "58.69",
         "16.36",
         "49.565",
         "42.405",
         "118.265",
         "11.765"
        ],
        [
         "75%",
         "72.88",
         "22.12",
         "63.0",
         "52.6925",
         "125.4675",
         "41.285000000000004"
        ],
        [
         "max",
         "129.83",
         "49.43",
         "125.74",
         "121.43",
         "163.07",
         "418.54"
        ]
       ],
       "shape": {
        "columns": 6,
        "rows": 8
       }
      },
      "text/html": [
       "<div>\n",
       "<style scoped>\n",
       "    .dataframe tbody tr th:only-of-type {\n",
       "        vertical-align: middle;\n",
       "    }\n",
       "\n",
       "    .dataframe tbody tr th {\n",
       "        vertical-align: top;\n",
       "    }\n",
       "\n",
       "    .dataframe thead th {\n",
       "        text-align: right;\n",
       "    }\n",
       "</style>\n",
       "<table border=\"1\" class=\"dataframe\">\n",
       "  <thead>\n",
       "    <tr style=\"text-align: right;\">\n",
       "      <th></th>\n",
       "      <th>Pelvic Incidence</th>\n",
       "      <th>Pelvic Tilt</th>\n",
       "      <th>Lumbar Lordosis Angle</th>\n",
       "      <th>Sacral Slope</th>\n",
       "      <th>Pelvic Radius</th>\n",
       "      <th>Grade of Spondylolisthesis</th>\n",
       "    </tr>\n",
       "  </thead>\n",
       "  <tbody>\n",
       "    <tr>\n",
       "      <th>count</th>\n",
       "      <td>310.000000</td>\n",
       "      <td>310.000000</td>\n",
       "      <td>310.000000</td>\n",
       "      <td>310.000000</td>\n",
       "      <td>310.000000</td>\n",
       "      <td>310.000000</td>\n",
       "    </tr>\n",
       "    <tr>\n",
       "      <th>mean</th>\n",
       "      <td>60.496484</td>\n",
       "      <td>17.542903</td>\n",
       "      <td>51.930710</td>\n",
       "      <td>42.953871</td>\n",
       "      <td>117.920548</td>\n",
       "      <td>26.296742</td>\n",
       "    </tr>\n",
       "    <tr>\n",
       "      <th>std</th>\n",
       "      <td>17.236109</td>\n",
       "      <td>10.008140</td>\n",
       "      <td>18.553766</td>\n",
       "      <td>13.422748</td>\n",
       "      <td>13.317629</td>\n",
       "      <td>37.558883</td>\n",
       "    </tr>\n",
       "    <tr>\n",
       "      <th>min</th>\n",
       "      <td>26.150000</td>\n",
       "      <td>-6.550000</td>\n",
       "      <td>14.000000</td>\n",
       "      <td>13.370000</td>\n",
       "      <td>70.080000</td>\n",
       "      <td>-11.060000</td>\n",
       "    </tr>\n",
       "    <tr>\n",
       "      <th>25%</th>\n",
       "      <td>46.432500</td>\n",
       "      <td>10.667500</td>\n",
       "      <td>37.000000</td>\n",
       "      <td>33.347500</td>\n",
       "      <td>110.710000</td>\n",
       "      <td>1.600000</td>\n",
       "    </tr>\n",
       "    <tr>\n",
       "      <th>50%</th>\n",
       "      <td>58.690000</td>\n",
       "      <td>16.360000</td>\n",
       "      <td>49.565000</td>\n",
       "      <td>42.405000</td>\n",
       "      <td>118.265000</td>\n",
       "      <td>11.765000</td>\n",
       "    </tr>\n",
       "    <tr>\n",
       "      <th>75%</th>\n",
       "      <td>72.880000</td>\n",
       "      <td>22.120000</td>\n",
       "      <td>63.000000</td>\n",
       "      <td>52.692500</td>\n",
       "      <td>125.467500</td>\n",
       "      <td>41.285000</td>\n",
       "    </tr>\n",
       "    <tr>\n",
       "      <th>max</th>\n",
       "      <td>129.830000</td>\n",
       "      <td>49.430000</td>\n",
       "      <td>125.740000</td>\n",
       "      <td>121.430000</td>\n",
       "      <td>163.070000</td>\n",
       "      <td>418.540000</td>\n",
       "    </tr>\n",
       "  </tbody>\n",
       "</table>\n",
       "</div>"
      ],
      "text/plain": [
       "       Pelvic Incidence  Pelvic Tilt  Lumbar Lordosis Angle  Sacral Slope  \\\n",
       "count        310.000000   310.000000             310.000000    310.000000   \n",
       "mean          60.496484    17.542903              51.930710     42.953871   \n",
       "std           17.236109    10.008140              18.553766     13.422748   \n",
       "min           26.150000    -6.550000              14.000000     13.370000   \n",
       "25%           46.432500    10.667500              37.000000     33.347500   \n",
       "50%           58.690000    16.360000              49.565000     42.405000   \n",
       "75%           72.880000    22.120000              63.000000     52.692500   \n",
       "max          129.830000    49.430000             125.740000    121.430000   \n",
       "\n",
       "       Pelvic Radius  Grade of Spondylolisthesis  \n",
       "count     310.000000                  310.000000  \n",
       "mean      117.920548                   26.296742  \n",
       "std        13.317629                   37.558883  \n",
       "min        70.080000                  -11.060000  \n",
       "25%       110.710000                    1.600000  \n",
       "50%       118.265000                   11.765000  \n",
       "75%       125.467500                   41.285000  \n",
       "max       163.070000                  418.540000  "
      ]
     },
     "execution_count": 4,
     "metadata": {},
     "output_type": "execute_result"
    }
   ],
   "source": [
    "df.describe()"
   ]
  },
  {
   "cell_type": "code",
   "execution_count": 5,
   "id": "c872b27c-e117-4900-a48f-85ae1472d650",
   "metadata": {},
   "outputs": [
    {
     "name": "stdout",
     "output_type": "stream",
     "text": [
      "Pelvic Incidence              0\n",
      "Pelvic Tilt                   0\n",
      "Lumbar Lordosis Angle         0\n",
      "Sacral Slope                  0\n",
      "Pelvic Radius                 0\n",
      "Grade of Spondylolisthesis    0\n",
      "Class                         0\n",
      "dtype: int64\n"
     ]
    }
   ],
   "source": [
    "print(df.isnull().sum()) #No missing values"
   ]
  },
  {
   "cell_type": "code",
   "execution_count": 6,
   "id": "48c7a24e-d61c-4dc1-8825-e8c9502bb395",
   "metadata": {},
   "outputs": [
    {
     "name": "stdout",
     "output_type": "stream",
     "text": [
      "0\n"
     ]
    }
   ],
   "source": [
    "print(df.duplicated().sum())  #No duplicate entries"
   ]
  },
  {
   "cell_type": "code",
   "execution_count": 7,
   "id": "d1716596-af98-4ccc-98a3-16919f3a2ba2",
   "metadata": {},
   "outputs": [
    {
     "data": {
      "text/plain": [
       "<Axes: xlabel='Pelvic Incidence'>"
      ]
     },
     "execution_count": 7,
     "metadata": {},
     "output_type": "execute_result"
    },
    {
     "data": {
      "image/png": "[encoded data removed]",
      "text/plain": [
       "<Figure size 640x480 with 1 Axes>"
      ]
     },
     "metadata": {},
     "output_type": "display_data"
    }
   ],
   "source": [
    "sns.violinplot(x=df[\"Pelvic Incidence\"])"
   ]
  },
  {
   "cell_type": "code",
   "execution_count": 8,
   "id": "717df65c-ec94-4328-9892-c442542e6f77",
   "metadata": {},
   "outputs": [
    {
     "data": {
      "image/png": "[encoded data removed]",
      "text/plain": [
       "<Figure size 800x500 with 1 Axes>"
      ]
     },
     "metadata": {},
     "output_type": "display_data"
    }
   ],
   "source": [
    "plt.figure(figsize=(8, 5))\n",
    "sns.histplot(df[\"Pelvic Incidence\"], bins=20, color=\"blue\")\n",
    "plt.title(\"Distribution of Pelvic Incidence\", fontsize=14)\n",
    "plt.xlabel(\"Pelvic Incidence\", fontsize=12)\n",
    "plt.ylabel(\"Count\", fontsize=12)\n",
    "plt.show()"
   ]
  },
  {
   "cell_type": "code",
   "execution_count": 9,
   "id": "e23d4152-d35d-4498-8317-90f33b4852d8",
   "metadata": {},
   "outputs": [
    {
     "data": {
      "text/plain": [
       "<Axes: xlabel='Pelvic Tilt'>"
      ]
     },
     "execution_count": 9,
     "metadata": {},
     "output_type": "execute_result"
    },
    {
     "data": {
      "image/png": "[encoded data removed]",
      "text/plain": [
       "<Figure size 640x480 with 1 Axes>"
      ]
     },
     "metadata": {},
     "output_type": "display_data"
    }
   ],
   "source": [
    "sns.violinplot(x=df[\"Pelvic Tilt\"])"
   ]
  },
  {
   "cell_type": "code",
   "execution_count": 10,
   "id": "1f6eb756-1935-419f-ada5-70487c120571",
   "metadata": {},
   "outputs": [
    {
     "data": {
      "image/png": "[encoded data removed]",
      "text/plain": [
       "<Figure size 800x500 with 1 Axes>"
      ]
     },
     "metadata": {},
     "output_type": "display_data"
    }
   ],
   "source": [
    "plt.figure(figsize=(8, 5))\n",
    "sns.histplot(df[\"Pelvic Tilt\"], bins=20, color=\"blue\")\n",
    "plt.title(\"Distribution of Pelvic Tilt\", fontsize=14)\n",
    "plt.xlabel(\"Pelvic Tilt\", fontsize=12)\n",
    "plt.ylabel(\"Count\", fontsize=12)\n",
    "plt.show()"
   ]
  },
  {
   "cell_type": "code",
   "execution_count": 11,
   "id": "391b753f-0603-4e4d-a1f5-d3a26256cdbb",
   "metadata": {},
   "outputs": [
    {
     "data": {
      "text/plain": [
       "<Axes: xlabel='Lumbar Lordosis Angle'>"
      ]
     },
     "execution_count": 11,
     "metadata": {},
     "output_type": "execute_result"
    },
    {
     "data": {
      "image/png": "[encoded data removed]",
      "text/plain": [
       "<Figure size 640x480 with 1 Axes>"
      ]
     },
     "metadata": {},
     "output_type": "display_data"
    }
   ],
   "source": [
    "sns.violinplot(x=df[\"Lumbar Lordosis Angle\"])"
   ]
  },
  {
   "cell_type": "code",
   "execution_count": 12,
   "id": "356de8a5-0554-4372-bf04-f96af8a77ee3",
   "metadata": {},
   "outputs": [
    {
     "data": {
      "image/png": "[encoded data removed]",
      "text/plain": [
       "<Figure size 800x500 with 1 Axes>"
      ]
     },
     "metadata": {},
     "output_type": "display_data"
    }
   ],
   "source": [
    "plt.figure(figsize=(8, 5))\n",
    "sns.histplot(df[\"Lumbar Lordosis Angle\"], bins=20, color=\"blue\")\n",
    "plt.title(\"Distribution of Lumbar Lordosis Angle\", fontsize=14)\n",
    "plt.xlabel(\"Lumbar Lordosis Angle\", fontsize=12)\n",
    "plt.ylabel(\"Count\", fontsize=12)\n",
    "plt.show()"
   ]
  },
  {
   "cell_type": "code",
   "execution_count": 13,
   "id": "662a58ce-f58b-4912-98ee-11dedb6659e6",
   "metadata": {},
   "outputs": [
    {
     "data": {
      "text/plain": [
       "<Axes: xlabel='Sacral Slope'>"
      ]
     },
     "execution_count": 13,
     "metadata": {},
     "output_type": "execute_result"
    },
    {
     "data": {
      "image/png": "[encoded data removed]",
      "text/plain": [
       "<Figure size 640x480 with 1 Axes>"
      ]
     },
     "metadata": {},
     "output_type": "display_data"
    }
   ],
   "source": [
    "sns.violinplot(x=df[\"Sacral Slope\"])"
   ]
  },
  {
   "cell_type": "code",
   "execution_count": 14,
   "id": "0ec085a6-fd76-4395-9fe6-90859f1de44f",
   "metadata": {},
   "outputs": [
    {
     "data": {
      "image/png": "[encoded data removed]",
      "text/plain": [
       "<Figure size 800x500 with 1 Axes>"
      ]
     },
     "metadata": {},
     "output_type": "display_data"
    }
   ],
   "source": [
    "plt.figure(figsize=(8, 5))\n",
    "sns.histplot(df[\"Sacral Slope\"], bins=20, color=\"blue\")\n",
    "plt.title(\"Distribution of Sacral Slope\", fontsize=14)\n",
    "plt.xlabel(\"Sacral Slope\", fontsize=12)\n",
    "plt.ylabel(\"Count\", fontsize=12)\n",
    "plt.show()"
   ]
  },
  {
   "cell_type": "code",
   "execution_count": 15,
   "id": "96dd68dd-47d7-4148-8196-6dcdeb16571f",
   "metadata": {},
   "outputs": [
    {
     "data": {
      "text/plain": [
       "<Axes: xlabel='Pelvic Radius'>"
      ]
     },
     "execution_count": 15,
     "metadata": {},
     "output_type": "execute_result"
    },
    {
     "data": {
      "image/png": "[encoded data removed]",
      "text/plain": [
       "<Figure size 640x480 with 1 Axes>"
      ]
     },
     "metadata": {},
     "output_type": "display_data"
    }
   ],
   "source": [
    "sns.violinplot(x=df[\"Pelvic Radius\"])"
   ]
  },
  {
   "cell_type": "code",
   "execution_count": 16,
   "id": "3d75b535-d149-48d5-9a3c-e1eed9b81884",
   "metadata": {},
   "outputs": [
    {
     "data": {
      "image/png": "[encoded data removed]",
      "text/plain": [
       "<Figure size 800x500 with 1 Axes>"
      ]
     },
     "metadata": {},
     "output_type": "display_data"
    }
   ],
   "source": [
    "plt.figure(figsize=(8, 5))\n",
    "sns.histplot(df[\"Pelvic Radius\"], bins=20, color=\"blue\")\n",
    "plt.title(\"Distribution of Pelvic Radius\", fontsize=14)\n",
    "plt.xlabel(\"Pelvic Radius\", fontsize=12)\n",
    "plt.ylabel(\"Count\", fontsize=12)\n",
    "plt.show()"
   ]
  },
  {
   "cell_type": "code",
   "execution_count": 17,
   "id": "3b7afe65-295f-48d0-adf2-ffc680f123f7",
   "metadata": {},
   "outputs": [
    {
     "data": {
      "text/plain": [
       "<Axes: xlabel='Grade of Spondylolisthesis'>"
      ]
     },
     "execution_count": 17,
     "metadata": {},
     "output_type": "execute_result"
    },
    {
     "data": {
      "image/png": "[encoded data removed]",
      "text/plain": [
       "<Figure size 640x480 with 1 Axes>"
      ]
     },
     "metadata": {},
     "output_type": "display_data"
    }
   ],
   "source": [
    "sns.violinplot(x=df[\"Grade of Spondylolisthesis\"])"
   ]
  },
  {
   "cell_type": "code",
   "execution_count": 18,
   "id": "97f1b691-e44a-4f5f-9fc7-47018a9aad64",
   "metadata": {},
   "outputs": [
    {
     "data": {
      "image/png": "[encoded data removed]",
      "text/plain": [
       "<Figure size 800x500 with 1 Axes>"
      ]
     },
     "metadata": {},
     "output_type": "display_data"
    }
   ],
   "source": [
    "plt.figure(figsize=(8, 5))\n",
    "sns.histplot(df[\"Grade of Spondylolisthesis\"], bins=20, color=\"blue\")\n",
    "plt.title(\"Distribution of Grade of Spondylolisthesis\", fontsize=14)\n",
    "plt.xlabel(\"Grade of Spondylolisthesis\", fontsize=12)\n",
    "plt.ylabel(\"Count\", fontsize=12)\n",
    "plt.show()"
   ]
  },
  {
   "cell_type": "code",
   "execution_count": 19,
   "id": "a00b2417-4326-4b0e-b6db-c39dbac2a7a0",
   "metadata": {},
   "outputs": [
    {
     "data": {
      "image/png": "[encoded data removed]",
      "text/plain": [
       "<Figure size 500x800 with 1 Axes>"
      ]
     },
     "metadata": {},
     "output_type": "display_data"
    }
   ],
   "source": [
    "max = df[\"Grade of Spondylolisthesis\"].max()\n",
    "\n",
    "plt.figure(figsize=(5, 8))\n",
    "sns.boxplot(y=df[\"Grade of Spondylolisthesis\"], color=\"blue\")\n",
    "\n",
    "#Highlighting extreme outlier\n",
    "plt.scatter(0, max, color=\"yellow\", s=100)\n",
    "\n",
    "plt.title(\"Boxplot of Grade of Spondylolisthesis\", fontsize=14)\n",
    "plt.ylabel(\"Grade of Spondylolisthesis\", fontsize=12)\n",
    "plt.show()"
   ]
  },
  {
   "cell_type": "markdown",
   "id": "8d5c8656-cb05-428f-9158-d1f237c22333",
   "metadata": {},
   "source": [
    "Highlighted most extreme outlier in this boxplot"
   ]
  },
  {
   "cell_type": "code",
   "execution_count": 20,
   "id": "925f3600-e81e-4921-935e-b8541efa5986",
   "metadata": {},
   "outputs": [
    {
     "name": "stdout",
     "output_type": "stream",
     "text": [
      "Outlier counts for each variable:\n",
      "                Pelvic Incidence  Pelvic Tilt  Lumbar Lordosis Angle  \\\n",
      "Low Outliers                   0            1                      0   \n",
      "High Outliers                  3           12                      1   \n",
      "Total Outliers                 3           13                      1   \n",
      "\n",
      "                Sacral Slope  Pelvic Radius  Grade of Spondylolisthesis  \n",
      "Low Outliers               0              6                           0  \n",
      "High Outliers              1              5                          10  \n",
      "Total Outliers             1             11                          10  \n"
     ]
    }
   ],
   "source": [
    "#Creating function to determine number of outliers \n",
    "\n",
    "df_numeric = df.iloc[:, :-1]\n",
    "\n",
    "def count_outliers(data):\n",
    "    Q1 = data.quantile(0.25)\n",
    "    Q3 = data.quantile(0.75)\n",
    "    IQR = Q3 - Q1\n",
    "    \n",
    "    #Outlier thresholds- if a value is more than 1.5 times the IQR away from the quartiles, it is an outlier\n",
    "    lower_bound = Q1 - 1.5 * IQR\n",
    "    upper_bound = Q3 + 1.5 * IQR\n",
    "    \n",
    "    #Separating counts for low and high outliers\n",
    "    low_outliers = (data < lower_bound).sum()\n",
    "    high_outliers = (data > upper_bound).sum()\n",
    "    \n",
    "    return pd.Series({\"Low Outliers\": low_outliers, \"High Outliers\": high_outliers, \"Total Outliers\": low_outliers + high_outliers})\n",
    "\n",
    "#Applying function to all numerical columns(so excluding Class)\n",
    "outlier_counts = df_numeric.apply(count_outliers)\n",
    "\n",
    "print(\"Outlier counts for each variable:\")\n",
    "print(outlier_counts)"
   ]
  },
  {
   "cell_type": "code",
   "execution_count": 21,
   "id": "a7d503b8-afb8-4f3a-9b4e-3c03a8e0b3e0",
   "metadata": {},
   "outputs": [
    {
     "name": "stdout",
     "output_type": "stream",
     "text": [
      "Outliers found in the dataset:\n"
     ]
    },
    {
     "data": {
      "application/vnd.microsoft.datawrangler.viewer.v0+json": {
       "columns": [
        {
         "name": "index",
         "rawType": "int64",
         "type": "integer"
        },
        {
         "name": "Outlier Count",
         "rawType": "int64",
         "type": "integer"
        },
        {
         "name": "Class",
         "rawType": "object",
         "type": "string"
        },
        {
         "name": "Pelvic Incidence",
         "rawType": "float64",
         "type": "float"
        },
        {
         "name": "Pelvic Tilt",
         "rawType": "float64",
         "type": "float"
        },
        {
         "name": "Lumbar Lordosis Angle",
         "rawType": "float64",
         "type": "float"
        },
        {
         "name": "Sacral Slope",
         "rawType": "float64",
         "type": "float"
        },
        {
         "name": "Pelvic Radius",
         "rawType": "float64",
         "type": "float"
        },
        {
         "name": "Grade of Spondylolisthesis",
         "rawType": "float64",
         "type": "float"
        }
       ],
       "conversionMethod": "pd.DataFrame",
       "ref": "299e9adc-fa08-4c65-badc-16b7ef9fde7a",
       "rows": [
        [
         "9",
         "1",
         "AB",
         "36.69",
         "5.01",
         "41.95",
         "31.68",
         "84.24",
         "0.66"
        ],
        [
         "51",
         "1",
         "AB",
         "74.43",
         "41.56",
         "27.7",
         "32.88",
         "107.95",
         "5.0"
        ],
        [
         "65",
         "1",
         "AB",
         "83.93",
         "41.29",
         "62.0",
         "42.65",
         "115.01",
         "26.59"
        ],
        [
         "71",
         "1",
         "AB",
         "86.9",
         "32.93",
         "47.79",
         "53.97",
         "135.08",
         "101.72"
        ],
        [
         "75",
         "3",
         "AB",
         "70.22",
         "39.82",
         "68.12",
         "30.4",
         "148.53",
         "145.38"
        ],
        [
         "76",
         "1",
         "AB",
         "86.75",
         "36.04",
         "69.22",
         "50.71",
         "139.41",
         "110.86"
        ],
        [
         "83",
         "1",
         "AB",
         "81.1",
         "24.79",
         "77.89",
         "56.31",
         "151.84",
         "65.21"
        ],
        [
         "84",
         "1",
         "AB",
         "76.33",
         "42.4",
         "57.2",
         "33.93",
         "124.27",
         "50.13"
        ],
        [
         "85",
         "1",
         "AB",
         "45.44",
         "9.91",
         "45.0",
         "35.54",
         "163.07",
         "20.32"
        ],
        [
         "95",
         "1",
         "AB",
         "57.52",
         "33.65",
         "50.91",
         "23.88",
         "140.98",
         "148.75"
        ],
        [
         "112",
         "1",
         "AB",
         "42.02",
         "-6.55",
         "67.9",
         "48.58",
         "111.59",
         "27.34"
        ],
        [
         "115",
         "3",
         "AB",
         "129.83",
         "8.4",
         "48.38",
         "121.43",
         "107.69",
         "418.54"
        ],
        [
         "122",
         "1",
         "AB",
         "80.07",
         "48.07",
         "52.4",
         "32.01",
         "110.71",
         "67.73"
        ],
        [
         "136",
         "1",
         "AB",
         "88.02",
         "39.84",
         "81.77",
         "48.18",
         "116.6",
         "56.77"
        ],
        [
         "141",
         "2",
         "AB",
         "89.5",
         "48.9",
         "72.0",
         "40.6",
         "134.63",
         "118.35"
        ],
        [
         "143",
         "1",
         "AB",
         "60.63",
         "20.6",
         "64.54",
         "40.03",
         "117.23",
         "104.86"
        ],
        [
         "145",
         "1",
         "AB",
         "85.64",
         "42.69",
         "78.75",
         "42.95",
         "105.14",
         "42.89"
        ],
        [
         "155",
         "1",
         "AB",
         "66.8",
         "14.55",
         "72.08",
         "52.25",
         "82.46",
         "41.69"
        ],
        [
         "162",
         "2",
         "AB",
         "118.14",
         "38.45",
         "50.84",
         "79.7",
         "81.02",
         "74.04"
        ],
        [
         "163",
         "1",
         "AB",
         "115.92",
         "37.52",
         "76.8",
         "78.41",
         "104.7",
         "81.2"
        ],
        [
         "167",
         "1",
         "AB",
         "72.34",
         "16.42",
         "59.87",
         "55.92",
         "70.08",
         "12.07"
        ],
        [
         "173",
         "1",
         "AB",
         "50.83",
         "9.06",
         "56.3",
         "41.76",
         "79.0",
         "23.04"
        ],
        [
         "179",
         "1",
         "AB",
         "68.72",
         "49.43",
         "68.06",
         "19.29",
         "125.02",
         "54.69"
        ],
        [
         "180",
         "1",
         "AB",
         "37.9",
         "4.48",
         "24.71",
         "33.42",
         "157.85",
         "33.61"
        ],
        [
         "190",
         "1",
         "AB",
         "43.72",
         "9.81",
         "52.0",
         "33.91",
         "88.43",
         "40.88"
        ],
        [
         "191",
         "1",
         "AB",
         "86.47",
         "40.3",
         "61.14",
         "46.17",
         "97.4",
         "55.75"
        ],
        [
         "192",
         "1",
         "AB",
         "74.47",
         "33.28",
         "66.94",
         "41.19",
         "146.47",
         "124.98"
        ],
        [
         "197",
         "2",
         "AB",
         "58.83",
         "37.58",
         "125.74",
         "21.25",
         "135.63",
         "117.31"
        ],
        [
         "202",
         "2",
         "AB",
         "76.31",
         "41.93",
         "93.28",
         "34.38",
         "132.27",
         "101.22"
        ],
        [
         "206",
         "1",
         "AB",
         "95.48",
         "46.55",
         "59.0",
         "48.93",
         "96.68",
         "77.28"
        ],
        [
         "304",
         "1",
         "NO",
         "45.08",
         "12.31",
         "44.58",
         "32.77",
         "147.89",
         "-8.94"
        ]
       ],
       "shape": {
        "columns": 8,
        "rows": 31
       }
      },
      "text/html": [
       "<div>\n",
       "<style scoped>\n",
       "    .dataframe tbody tr th:only-of-type {\n",
       "        vertical-align: middle;\n",
       "    }\n",
       "\n",
       "    .dataframe tbody tr th {\n",
       "        vertical-align: top;\n",
       "    }\n",
       "\n",
       "    .dataframe thead th {\n",
       "        text-align: right;\n",
       "    }\n",
       "</style>\n",
       "<table border=\"1\" class=\"dataframe\">\n",
       "  <thead>\n",
       "    <tr style=\"text-align: right;\">\n",
       "      <th></th>\n",
       "      <th>Outlier Count</th>\n",
       "      <th>Class</th>\n",
       "      <th>Pelvic Incidence</th>\n",
       "      <th>Pelvic Tilt</th>\n",
       "      <th>Lumbar Lordosis Angle</th>\n",
       "      <th>Sacral Slope</th>\n",
       "      <th>Pelvic Radius</th>\n",
       "      <th>Grade of Spondylolisthesis</th>\n",
       "    </tr>\n",
       "  </thead>\n",
       "  <tbody>\n",
       "    <tr>\n",
       "      <th>9</th>\n",
       "      <td>1</td>\n",
       "      <td>AB</td>\n",
       "      <td>36.69</td>\n",
       "      <td>5.01</td>\n",
       "      <td>41.95</td>\n",
       "      <td>31.68</td>\n",
       "      <td>84.24</td>\n",
       "      <td>0.66</td>\n",
       "    </tr>\n",
       "    <tr>\n",
       "      <th>51</th>\n",
       "      <td>1</td>\n",
       "      <td>AB</td>\n",
       "      <td>74.43</td>\n",
       "      <td>41.56</td>\n",
       "      <td>27.70</td>\n",
       "      <td>32.88</td>\n",
       "      <td>107.95</td>\n",
       "      <td>5.00</td>\n",
       "    </tr>\n",
       "    <tr>\n",
       "      <th>65</th>\n",
       "      <td>1</td>\n",
       "      <td>AB</td>\n",
       "      <td>83.93</td>\n",
       "      <td>41.29</td>\n",
       "      <td>62.00</td>\n",
       "      <td>42.65</td>\n",
       "      <td>115.01</td>\n",
       "      <td>26.59</td>\n",
       "    </tr>\n",
       "    <tr>\n",
       "      <th>71</th>\n",
       "      <td>1</td>\n",
       "      <td>AB</td>\n",
       "      <td>86.90</td>\n",
       "      <td>32.93</td>\n",
       "      <td>47.79</td>\n",
       "      <td>53.97</td>\n",
       "      <td>135.08</td>\n",
       "      <td>101.72</td>\n",
       "    </tr>\n",
       "    <tr>\n",
       "      <th>75</th>\n",
       "      <td>3</td>\n",
       "      <td>AB</td>\n",
       "      <td>70.22</td>\n",
       "      <td>39.82</td>\n",
       "      <td>68.12</td>\n",
       "      <td>30.40</td>\n",
       "      <td>148.53</td>\n",
       "      <td>145.38</td>\n",
       "    </tr>\n",
       "    <tr>\n",
       "      <th>76</th>\n",
       "      <td>1</td>\n",
       "      <td>AB</td>\n",
       "      <td>86.75</td>\n",
       "      <td>36.04</td>\n",
       "      <td>69.22</td>\n",
       "      <td>50.71</td>\n",
       "      <td>139.41</td>\n",
       "      <td>110.86</td>\n",
       "    </tr>\n",
       "    <tr>\n",
       "      <th>83</th>\n",
       "      <td>1</td>\n",
       "      <td>AB</td>\n",
       "      <td>81.10</td>\n",
       "      <td>24.79</td>\n",
       "      <td>77.89</td>\n",
       "      <td>56.31</td>\n",
       "      <td>151.84</td>\n",
       "      <td>65.21</td>\n",
       "    </tr>\n",
       "    <tr>\n",
       "      <th>84</th>\n",
       "      <td>1</td>\n",
       "      <td>AB</td>\n",
       "      <td>76.33</td>\n",
       "      <td>42.40</td>\n",
       "      <td>57.20</td>\n",
       "      <td>33.93</td>\n",
       "      <td>124.27</td>\n",
       "      <td>50.13</td>\n",
       "    </tr>\n",
       "    <tr>\n",
       "      <th>85</th>\n",
       "      <td>1</td>\n",
       "      <td>AB</td>\n",
       "      <td>45.44</td>\n",
       "      <td>9.91</td>\n",
       "      <td>45.00</td>\n",
       "      <td>35.54</td>\n",
       "      <td>163.07</td>\n",
       "      <td>20.32</td>\n",
       "    </tr>\n",
       "    <tr>\n",
       "      <th>95</th>\n",
       "      <td>1</td>\n",
       "      <td>AB</td>\n",
       "      <td>57.52</td>\n",
       "      <td>33.65</td>\n",
       "      <td>50.91</td>\n",
       "      <td>23.88</td>\n",
       "      <td>140.98</td>\n",
       "      <td>148.75</td>\n",
       "    </tr>\n",
       "    <tr>\n",
       "      <th>112</th>\n",
       "      <td>1</td>\n",
       "      <td>AB</td>\n",
       "      <td>42.02</td>\n",
       "      <td>-6.55</td>\n",
       "      <td>67.90</td>\n",
       "      <td>48.58</td>\n",
       "      <td>111.59</td>\n",
       "      <td>27.34</td>\n",
       "    </tr>\n",
       "    <tr>\n",
       "      <th>115</th>\n",
       "      <td>3</td>\n",
       "      <td>AB</td>\n",
       "      <td>129.83</td>\n",
       "      <td>8.40</td>\n",
       "      <td>48.38</td>\n",
       "      <td>121.43</td>\n",
       "      <td>107.69</td>\n",
       "      <td>418.54</td>\n",
       "    </tr>\n",
       "    <tr>\n",
       "      <th>122</th>\n",
       "      <td>1</td>\n",
       "      <td>AB</td>\n",
       "      <td>80.07</td>\n",
       "      <td>48.07</td>\n",
       "      <td>52.40</td>\n",
       "      <td>32.01</td>\n",
       "      <td>110.71</td>\n",
       "      <td>67.73</td>\n",
       "    </tr>\n",
       "    <tr>\n",
       "      <th>136</th>\n",
       "      <td>1</td>\n",
       "      <td>AB</td>\n",
       "      <td>88.02</td>\n",
       "      <td>39.84</td>\n",
       "      <td>81.77</td>\n",
       "      <td>48.18</td>\n",
       "      <td>116.60</td>\n",
       "      <td>56.77</td>\n",
       "    </tr>\n",
       "    <tr>\n",
       "      <th>141</th>\n",
       "      <td>2</td>\n",
       "      <td>AB</td>\n",
       "      <td>89.50</td>\n",
       "      <td>48.90</td>\n",
       "      <td>72.00</td>\n",
       "      <td>40.60</td>\n",
       "      <td>134.63</td>\n",
       "      <td>118.35</td>\n",
       "    </tr>\n",
       "    <tr>\n",
       "      <th>143</th>\n",
       "      <td>1</td>\n",
       "      <td>AB</td>\n",
       "      <td>60.63</td>\n",
       "      <td>20.60</td>\n",
       "      <td>64.54</td>\n",
       "      <td>40.03</td>\n",
       "      <td>117.23</td>\n",
       "      <td>104.86</td>\n",
       "    </tr>\n",
       "    <tr>\n",
       "      <th>145</th>\n",
       "      <td>1</td>\n",
       "      <td>AB</td>\n",
       "      <td>85.64</td>\n",
       "      <td>42.69</td>\n",
       "      <td>78.75</td>\n",
       "      <td>42.95</td>\n",
       "      <td>105.14</td>\n",
       "      <td>42.89</td>\n",
       "    </tr>\n",
       "    <tr>\n",
       "      <th>155</th>\n",
       "      <td>1</td>\n",
       "      <td>AB</td>\n",
       "      <td>66.80</td>\n",
       "      <td>14.55</td>\n",
       "      <td>72.08</td>\n",
       "      <td>52.25</td>\n",
       "      <td>82.46</td>\n",
       "      <td>41.69</td>\n",
       "    </tr>\n",
       "    <tr>\n",
       "      <th>162</th>\n",
       "      <td>2</td>\n",
       "      <td>AB</td>\n",
       "      <td>118.14</td>\n",
       "      <td>38.45</td>\n",
       "      <td>50.84</td>\n",
       "      <td>79.70</td>\n",
       "      <td>81.02</td>\n",
       "      <td>74.04</td>\n",
       "    </tr>\n",
       "    <tr>\n",
       "      <th>163</th>\n",
       "      <td>1</td>\n",
       "      <td>AB</td>\n",
       "      <td>115.92</td>\n",
       "      <td>37.52</td>\n",
       "      <td>76.80</td>\n",
       "      <td>78.41</td>\n",
       "      <td>104.70</td>\n",
       "      <td>81.20</td>\n",
       "    </tr>\n",
       "    <tr>\n",
       "      <th>167</th>\n",
       "      <td>1</td>\n",
       "      <td>AB</td>\n",
       "      <td>72.34</td>\n",
       "      <td>16.42</td>\n",
       "      <td>59.87</td>\n",
       "      <td>55.92</td>\n",
       "      <td>70.08</td>\n",
       "      <td>12.07</td>\n",
       "    </tr>\n",
       "    <tr>\n",
       "      <th>173</th>\n",
       "      <td>1</td>\n",
       "      <td>AB</td>\n",
       "      <td>50.83</td>\n",
       "      <td>9.06</td>\n",
       "      <td>56.30</td>\n",
       "      <td>41.76</td>\n",
       "      <td>79.00</td>\n",
       "      <td>23.04</td>\n",
       "    </tr>\n",
       "    <tr>\n",
       "      <th>179</th>\n",
       "      <td>1</td>\n",
       "      <td>AB</td>\n",
       "      <td>68.72</td>\n",
       "      <td>49.43</td>\n",
       "      <td>68.06</td>\n",
       "      <td>19.29</td>\n",
       "      <td>125.02</td>\n",
       "      <td>54.69</td>\n",
       "    </tr>\n",
       "    <tr>\n",
       "      <th>180</th>\n",
       "      <td>1</td>\n",
       "      <td>AB</td>\n",
       "      <td>37.90</td>\n",
       "      <td>4.48</td>\n",
       "      <td>24.71</td>\n",
       "      <td>33.42</td>\n",
       "      <td>157.85</td>\n",
       "      <td>33.61</td>\n",
       "    </tr>\n",
       "    <tr>\n",
       "      <th>190</th>\n",
       "      <td>1</td>\n",
       "      <td>AB</td>\n",
       "      <td>43.72</td>\n",
       "      <td>9.81</td>\n",
       "      <td>52.00</td>\n",
       "      <td>33.91</td>\n",
       "      <td>88.43</td>\n",
       "      <td>40.88</td>\n",
       "    </tr>\n",
       "    <tr>\n",
       "      <th>191</th>\n",
       "      <td>1</td>\n",
       "      <td>AB</td>\n",
       "      <td>86.47</td>\n",
       "      <td>40.30</td>\n",
       "      <td>61.14</td>\n",
       "      <td>46.17</td>\n",
       "      <td>97.40</td>\n",
       "      <td>55.75</td>\n",
       "    </tr>\n",
       "    <tr>\n",
       "      <th>192</th>\n",
       "      <td>1</td>\n",
       "      <td>AB</td>\n",
       "      <td>74.47</td>\n",
       "      <td>33.28</td>\n",
       "      <td>66.94</td>\n",
       "      <td>41.19</td>\n",
       "      <td>146.47</td>\n",
       "      <td>124.98</td>\n",
       "    </tr>\n",
       "    <tr>\n",
       "      <th>197</th>\n",
       "      <td>2</td>\n",
       "      <td>AB</td>\n",
       "      <td>58.83</td>\n",
       "      <td>37.58</td>\n",
       "      <td>125.74</td>\n",
       "      <td>21.25</td>\n",
       "      <td>135.63</td>\n",
       "      <td>117.31</td>\n",
       "    </tr>\n",
       "    <tr>\n",
       "      <th>202</th>\n",
       "      <td>2</td>\n",
       "      <td>AB</td>\n",
       "      <td>76.31</td>\n",
       "      <td>41.93</td>\n",
       "      <td>93.28</td>\n",
       "      <td>34.38</td>\n",
       "      <td>132.27</td>\n",
       "      <td>101.22</td>\n",
       "    </tr>\n",
       "    <tr>\n",
       "      <th>206</th>\n",
       "      <td>1</td>\n",
       "      <td>AB</td>\n",
       "      <td>95.48</td>\n",
       "      <td>46.55</td>\n",
       "      <td>59.00</td>\n",
       "      <td>48.93</td>\n",
       "      <td>96.68</td>\n",
       "      <td>77.28</td>\n",
       "    </tr>\n",
       "    <tr>\n",
       "      <th>304</th>\n",
       "      <td>1</td>\n",
       "      <td>NO</td>\n",
       "      <td>45.08</td>\n",
       "      <td>12.31</td>\n",
       "      <td>44.58</td>\n",
       "      <td>32.77</td>\n",
       "      <td>147.89</td>\n",
       "      <td>-8.94</td>\n",
       "    </tr>\n",
       "  </tbody>\n",
       "</table>\n",
       "</div>"
      ],
      "text/plain": [
       "     Outlier Count Class  Pelvic Incidence  Pelvic Tilt  \\\n",
       "9                1    AB             36.69         5.01   \n",
       "51               1    AB             74.43        41.56   \n",
       "65               1    AB             83.93        41.29   \n",
       "71               1    AB             86.90        32.93   \n",
       "75               3    AB             70.22        39.82   \n",
       "76               1    AB             86.75        36.04   \n",
       "83               1    AB             81.10        24.79   \n",
       "84               1    AB             76.33        42.40   \n",
       "85               1    AB             45.44         9.91   \n",
       "95               1    AB             57.52        33.65   \n",
       "112              1    AB             42.02        -6.55   \n",
       "115              3    AB            129.83         8.40   \n",
       "122              1    AB             80.07        48.07   \n",
       "136              1    AB             88.02        39.84   \n",
       "141              2    AB             89.50        48.90   \n",
       "143              1    AB             60.63        20.60   \n",
       "145              1    AB             85.64        42.69   \n",
       "155              1    AB             66.80        14.55   \n",
       "162              2    AB            118.14        38.45   \n",
       "163              1    AB            115.92        37.52   \n",
       "167              1    AB             72.34        16.42   \n",
       "173              1    AB             50.83         9.06   \n",
       "179              1    AB             68.72        49.43   \n",
       "180              1    AB             37.90         4.48   \n",
       "190              1    AB             43.72         9.81   \n",
       "191              1    AB             86.47        40.30   \n",
       "192              1    AB             74.47        33.28   \n",
       "197              2    AB             58.83        37.58   \n",
       "202              2    AB             76.31        41.93   \n",
       "206              1    AB             95.48        46.55   \n",
       "304              1    NO             45.08        12.31   \n",
       "\n",
       "     Lumbar Lordosis Angle  Sacral Slope  Pelvic Radius  \\\n",
       "9                    41.95         31.68          84.24   \n",
       "51                   27.70         32.88         107.95   \n",
       "65                   62.00         42.65         115.01   \n",
       "71                   47.79         53.97         135.08   \n",
       "75                   68.12         30.40         148.53   \n",
       "76                   69.22         50.71         139.41   \n",
       "83                   77.89         56.31         151.84   \n",
       "84                   57.20         33.93         124.27   \n",
       "85                   45.00         35.54         163.07   \n",
       "95                   50.91         23.88         140.98   \n",
       "112                  67.90         48.58         111.59   \n",
       "115                  48.38        121.43         107.69   \n",
       "122                  52.40         32.01         110.71   \n",
       "136                  81.77         48.18         116.60   \n",
       "141                  72.00         40.60         134.63   \n",
       "143                  64.54         40.03         117.23   \n",
       "145                  78.75         42.95         105.14   \n",
       "155                  72.08         52.25          82.46   \n",
       "162                  50.84         79.70          81.02   \n",
       "163                  76.80         78.41         104.70   \n",
       "167                  59.87         55.92          70.08   \n",
       "173                  56.30         41.76          79.00   \n",
       "179                  68.06         19.29         125.02   \n",
       "180                  24.71         33.42         157.85   \n",
       "190                  52.00         33.91          88.43   \n",
       "191                  61.14         46.17          97.40   \n",
       "192                  66.94         41.19         146.47   \n",
       "197                 125.74         21.25         135.63   \n",
       "202                  93.28         34.38         132.27   \n",
       "206                  59.00         48.93          96.68   \n",
       "304                  44.58         32.77         147.89   \n",
       "\n",
       "     Grade of Spondylolisthesis  \n",
       "9                          0.66  \n",
       "51                         5.00  \n",
       "65                        26.59  \n",
       "71                       101.72  \n",
       "75                       145.38  \n",
       "76                       110.86  \n",
       "83                        65.21  \n",
       "84                        50.13  \n",
       "85                        20.32  \n",
       "95                       148.75  \n",
       "112                       27.34  \n",
       "115                      418.54  \n",
       "122                       67.73  \n",
       "136                       56.77  \n",
       "141                      118.35  \n",
       "143                      104.86  \n",
       "145                       42.89  \n",
       "155                       41.69  \n",
       "162                       74.04  \n",
       "163                       81.20  \n",
       "167                       12.07  \n",
       "173                       23.04  \n",
       "179                       54.69  \n",
       "180                       33.61  \n",
       "190                       40.88  \n",
       "191                       55.75  \n",
       "192                      124.98  \n",
       "197                      117.31  \n",
       "202                      101.22  \n",
       "206                       77.28  \n",
       "304                       -8.94  "
      ]
     },
     "execution_count": 21,
     "metadata": {},
     "output_type": "execute_result"
    }
   ],
   "source": [
    "#Counting number of outliers per row\n",
    "outlier_counts = df_numeric.apply(count_outliers)\n",
    "\n",
    "outlier_mask = (df_numeric < (df_numeric.quantile(0.25) - 1.5 * (df_numeric.quantile(0.75) - df_numeric.quantile(0.25)))) | \\\n",
    "               (df_numeric > (df_numeric.quantile(0.75) + 1.5 * (df_numeric.quantile(0.75) - df_numeric.quantile(0.25))))\n",
    "\n",
    "#Filtering rows with at least one outlier\n",
    "outliers_df = df[outlier_mask.sum(axis=1) > 0].copy()\n",
    "\n",
    "#Adding 'Outlier Count' column (for display)\n",
    "outliers_df[\"Outlier Count\"] = outlier_mask.sum(axis=1)\n",
    "\n",
    "print(\"Outliers found in the dataset:\")\n",
    "outliers_df[[\"Outlier Count\", \"Class\"] + df_numeric.columns.tolist()]\n",
    "# print(outliers_df[[\"Outlier Count\", \"Class\"] + df_numeric.columns.tolist()])\n"
   ]
  },
  {
   "cell_type": "code",
   "execution_count": 22,
   "id": "2a4e093d-6976-4e77-9412-532df28af141",
   "metadata": {},
   "outputs": [
    {
     "data": {
      "image/png": "[encoded data removed]",
      "text/plain": [
       "<Figure size 800x600 with 2 Axes>"
      ]
     },
     "metadata": {},
     "output_type": "display_data"
    }
   ],
   "source": [
    "# Dropping 'Class' for the correlation matrix\n",
    "df_corr = df.drop(columns=[\"Class\"]).corr()\n",
    "\n",
    "plt.figure(figsize=(8,6))\n",
    "sns.heatmap(df_corr, annot=True, cmap=\"coolwarm\", fmt=\".2f\", linewidths=0.5)\n",
    "\n",
    "plt.title(\"Correlation Matrix\", fontsize=14)\n",
    "plt.show()"
   ]
  },
  {
   "cell_type": "code",
   "execution_count": 23,
   "id": "d97c1545-ad2d-4a17-bbdf-4fbc634fb671",
   "metadata": {},
   "outputs": [
    {
     "data": {
      "application/vnd.microsoft.datawrangler.viewer.v0+json": {
       "columns": [
        {
         "name": "index",
         "rawType": "int64",
         "type": "integer"
        },
        {
         "name": "Pelvic Incidence",
         "rawType": "float64",
         "type": "float"
        },
        {
         "name": "Pelvic Tilt",
         "rawType": "float64",
         "type": "float"
        },
        {
         "name": "Lumbar Lordosis Angle",
         "rawType": "float64",
         "type": "float"
        },
        {
         "name": "Sacral Slope",
         "rawType": "float64",
         "type": "float"
        },
        {
         "name": "Pelvic Radius",
         "rawType": "float64",
         "type": "float"
        },
        {
         "name": "Grade of Spondylolisthesis",
         "rawType": "float64",
         "type": "float"
        },
        {
         "name": "Class",
         "rawType": "object",
         "type": "string"
        }
       ],
       "conversionMethod": "pd.DataFrame",
       "ref": "3bab069a-2dbf-4549-9111-88cba950ece1",
       "rows": [
        [
         "0",
         "63.03",
         "22.55",
         "39.61",
         "40.48",
         "98.67",
         "-0.25",
         "AB"
        ],
        [
         "1",
         "39.06",
         "10.06",
         "25.02",
         "29.0",
         "114.41",
         "4.56",
         "AB"
        ],
        [
         "2",
         "68.83",
         "22.22",
         "50.09",
         "46.61",
         "105.99",
         "-3.53",
         "AB"
        ],
        [
         "3",
         "69.3",
         "24.65",
         "44.31",
         "44.64",
         "101.87",
         "11.21",
         "AB"
        ],
        [
         "4",
         "49.71",
         "9.65",
         "28.32",
         "40.06",
         "108.17",
         "7.92",
         "AB"
        ]
       ],
       "shape": {
        "columns": 7,
        "rows": 5
       }
      },
      "text/html": [
       "<div>\n",
       "<style scoped>\n",
       "    .dataframe tbody tr th:only-of-type {\n",
       "        vertical-align: middle;\n",
       "    }\n",
       "\n",
       "    .dataframe tbody tr th {\n",
       "        vertical-align: top;\n",
       "    }\n",
       "\n",
       "    .dataframe thead th {\n",
       "        text-align: right;\n",
       "    }\n",
       "</style>\n",
       "<table border=\"1\" class=\"dataframe\">\n",
       "  <thead>\n",
       "    <tr style=\"text-align: right;\">\n",
       "      <th></th>\n",
       "      <th>Pelvic Incidence</th>\n",
       "      <th>Pelvic Tilt</th>\n",
       "      <th>Lumbar Lordosis Angle</th>\n",
       "      <th>Sacral Slope</th>\n",
       "      <th>Pelvic Radius</th>\n",
       "      <th>Grade of Spondylolisthesis</th>\n",
       "      <th>Class</th>\n",
       "    </tr>\n",
       "  </thead>\n",
       "  <tbody>\n",
       "    <tr>\n",
       "      <th>0</th>\n",
       "      <td>63.03</td>\n",
       "      <td>22.55</td>\n",
       "      <td>39.61</td>\n",
       "      <td>40.48</td>\n",
       "      <td>98.67</td>\n",
       "      <td>-0.25</td>\n",
       "      <td>AB</td>\n",
       "    </tr>\n",
       "    <tr>\n",
       "      <th>1</th>\n",
       "      <td>39.06</td>\n",
       "      <td>10.06</td>\n",
       "      <td>25.02</td>\n",
       "      <td>29.00</td>\n",
       "      <td>114.41</td>\n",
       "      <td>4.56</td>\n",
       "      <td>AB</td>\n",
       "    </tr>\n",
       "    <tr>\n",
       "      <th>2</th>\n",
       "      <td>68.83</td>\n",
       "      <td>22.22</td>\n",
       "      <td>50.09</td>\n",
       "      <td>46.61</td>\n",
       "      <td>105.99</td>\n",
       "      <td>-3.53</td>\n",
       "      <td>AB</td>\n",
       "    </tr>\n",
       "    <tr>\n",
       "      <th>3</th>\n",
       "      <td>69.30</td>\n",
       "      <td>24.65</td>\n",
       "      <td>44.31</td>\n",
       "      <td>44.64</td>\n",
       "      <td>101.87</td>\n",
       "      <td>11.21</td>\n",
       "      <td>AB</td>\n",
       "    </tr>\n",
       "    <tr>\n",
       "      <th>4</th>\n",
       "      <td>49.71</td>\n",
       "      <td>9.65</td>\n",
       "      <td>28.32</td>\n",
       "      <td>40.06</td>\n",
       "      <td>108.17</td>\n",
       "      <td>7.92</td>\n",
       "      <td>AB</td>\n",
       "    </tr>\n",
       "  </tbody>\n",
       "</table>\n",
       "</div>"
      ],
      "text/plain": [
       "   Pelvic Incidence  Pelvic Tilt  Lumbar Lordosis Angle  Sacral Slope  \\\n",
       "0             63.03        22.55                  39.61         40.48   \n",
       "1             39.06        10.06                  25.02         29.00   \n",
       "2             68.83        22.22                  50.09         46.61   \n",
       "3             69.30        24.65                  44.31         44.64   \n",
       "4             49.71         9.65                  28.32         40.06   \n",
       "\n",
       "   Pelvic Radius  Grade of Spondylolisthesis Class  \n",
       "0          98.67                       -0.25    AB  \n",
       "1         114.41                        4.56    AB  \n",
       "2         105.99                       -3.53    AB  \n",
       "3         101.87                       11.21    AB  \n",
       "4         108.17                        7.92    AB  "
      ]
     },
     "execution_count": 23,
     "metadata": {},
     "output_type": "execute_result"
    }
   ],
   "source": [
    "df.head()"
   ]
  },
  {
   "cell_type": "code",
   "execution_count": 24,
   "id": "23da6fbe-1469-453a-a704-0cfd2030870c",
   "metadata": {},
   "outputs": [
    {
     "data": {
      "application/vnd.microsoft.datawrangler.viewer.v0+json": {
       "columns": [
        {
         "name": "index",
         "rawType": "int64",
         "type": "integer"
        },
        {
         "name": "Pelvic Incidence",
         "rawType": "float64",
         "type": "float"
        },
        {
         "name": "Pelvic Tilt",
         "rawType": "float64",
         "type": "float"
        },
        {
         "name": "Lumbar Lordosis Angle",
         "rawType": "float64",
         "type": "float"
        },
        {
         "name": "Sacral Slope",
         "rawType": "float64",
         "type": "float"
        },
        {
         "name": "Pelvic Radius",
         "rawType": "float64",
         "type": "float"
        },
        {
         "name": "Grade of Spondylolisthesis",
         "rawType": "float64",
         "type": "float"
        },
        {
         "name": "Class",
         "rawType": "object",
         "type": "string"
        }
       ],
       "conversionMethod": "pd.DataFrame",
       "ref": "9f1c368f-9f50-4424-8232-43761da573dd",
       "rows": [
        [
         "0",
         "0.1472265205691045",
         "0.501111325648312",
         "-0.6651280456002486",
         "-0.18460234315578938",
         "-1.447830714966967",
         "-0.707946056241165",
         "AB"
        ],
        [
         "1",
         "-1.2457070619731214",
         "-0.7488905695827777",
         "-1.4527627224478756",
         "-1.0412496489620515",
         "-0.2640277917808955",
         "-0.5796734215504125",
         "AB"
        ],
        [
         "2",
         "0.48427344500568803",
         "0.4680848544372421",
         "-0.09936989526692895",
         "0.2728234394742098",
         "-0.8972946668270662",
         "-0.7954167925791418",
         "AB"
        ],
        [
         "3",
         "0.5115858681927904",
         "0.7112797788096639",
         "-0.41140063085152695",
         "0.12582037393080073",
         "-1.207159218512365",
         "-0.40233183720664856",
         "AB"
        ],
        [
         "4",
         "-0.6268191748611188",
         "-0.7899234580571369",
         "-1.2746136865604754",
         "-0.21594309824626198",
         "-0.7333372098673683",
         "-0.49006925261882645",
         "AB"
        ]
       ],
       "shape": {
        "columns": 7,
        "rows": 5
       }
      },
      "text/html": [
       "<div>\n",
       "<style scoped>\n",
       "    .dataframe tbody tr th:only-of-type {\n",
       "        vertical-align: middle;\n",
       "    }\n",
       "\n",
       "    .dataframe tbody tr th {\n",
       "        vertical-align: top;\n",
       "    }\n",
       "\n",
       "    .dataframe thead th {\n",
       "        text-align: right;\n",
       "    }\n",
       "</style>\n",
       "<table border=\"1\" class=\"dataframe\">\n",
       "  <thead>\n",
       "    <tr style=\"text-align: right;\">\n",
       "      <th></th>\n",
       "      <th>Pelvic Incidence</th>\n",
       "      <th>Pelvic Tilt</th>\n",
       "      <th>Lumbar Lordosis Angle</th>\n",
       "      <th>Sacral Slope</th>\n",
       "      <th>Pelvic Radius</th>\n",
       "      <th>Grade of Spondylolisthesis</th>\n",
       "      <th>Class</th>\n",
       "    </tr>\n",
       "  </thead>\n",
       "  <tbody>\n",
       "    <tr>\n",
       "      <th>0</th>\n",
       "      <td>0.147227</td>\n",
       "      <td>0.501111</td>\n",
       "      <td>-0.665128</td>\n",
       "      <td>-0.184602</td>\n",
       "      <td>-1.447831</td>\n",
       "      <td>-0.707946</td>\n",
       "      <td>AB</td>\n",
       "    </tr>\n",
       "    <tr>\n",
       "      <th>1</th>\n",
       "      <td>-1.245707</td>\n",
       "      <td>-0.748891</td>\n",
       "      <td>-1.452763</td>\n",
       "      <td>-1.041250</td>\n",
       "      <td>-0.264028</td>\n",
       "      <td>-0.579673</td>\n",
       "      <td>AB</td>\n",
       "    </tr>\n",
       "    <tr>\n",
       "      <th>2</th>\n",
       "      <td>0.484273</td>\n",
       "      <td>0.468085</td>\n",
       "      <td>-0.099370</td>\n",
       "      <td>0.272823</td>\n",
       "      <td>-0.897295</td>\n",
       "      <td>-0.795417</td>\n",
       "      <td>AB</td>\n",
       "    </tr>\n",
       "    <tr>\n",
       "      <th>3</th>\n",
       "      <td>0.511586</td>\n",
       "      <td>0.711280</td>\n",
       "      <td>-0.411401</td>\n",
       "      <td>0.125820</td>\n",
       "      <td>-1.207159</td>\n",
       "      <td>-0.402332</td>\n",
       "      <td>AB</td>\n",
       "    </tr>\n",
       "    <tr>\n",
       "      <th>4</th>\n",
       "      <td>-0.626819</td>\n",
       "      <td>-0.789923</td>\n",
       "      <td>-1.274614</td>\n",
       "      <td>-0.215943</td>\n",
       "      <td>-0.733337</td>\n",
       "      <td>-0.490069</td>\n",
       "      <td>AB</td>\n",
       "    </tr>\n",
       "  </tbody>\n",
       "</table>\n",
       "</div>"
      ],
      "text/plain": [
       "   Pelvic Incidence  Pelvic Tilt  Lumbar Lordosis Angle  Sacral Slope  \\\n",
       "0          0.147227     0.501111              -0.665128     -0.184602   \n",
       "1         -1.245707    -0.748891              -1.452763     -1.041250   \n",
       "2          0.484273     0.468085              -0.099370      0.272823   \n",
       "3          0.511586     0.711280              -0.411401      0.125820   \n",
       "4         -0.626819    -0.789923              -1.274614     -0.215943   \n",
       "\n",
       "   Pelvic Radius  Grade of Spondylolisthesis Class  \n",
       "0      -1.447831                   -0.707946    AB  \n",
       "1      -0.264028                   -0.579673    AB  \n",
       "2      -0.897295                   -0.795417    AB  \n",
       "3      -1.207159                   -0.402332    AB  \n",
       "4      -0.733337                   -0.490069    AB  "
      ]
     },
     "execution_count": 24,
     "metadata": {},
     "output_type": "execute_result"
    }
   ],
   "source": [
    "from sklearn.preprocessing import StandardScaler\n",
    "\n",
    "#Ensuring column names remain in the dataframe\n",
    "feature_columns = [\n",
    "    \"Pelvic Incidence\", \"Pelvic Tilt\", \"Lumbar Lordosis Angle\", \"Sacral Slope\",\n",
    "    \"Pelvic Radius\", \"Grade of Spondylolisthesis\"\n",
    "]\n",
    "\n",
    "#Applying Standardisation\n",
    "scaler = StandardScaler()\n",
    "df_scaled = pd.DataFrame(scaler.fit_transform(df.iloc[:, :-1]), columns=feature_columns)\n",
    "\n",
    "#Adding back 'Class' column\n",
    "df_scaled[\"Class\"] = df[\"Class\"]\n",
    "\n",
    "#Displaying first few rows to check standardisation worked\n",
    "df_scaled.head()"
   ]
  },
  {
   "cell_type": "markdown",
   "id": "b4b78a4c-fdb6-45dc-9aea-710802b43e90",
   "metadata": {},
   "source": [
    "Due to the outliers found in the EDA, standardisation was chosen. Outliers still exist when standardisation is used but they won’t distort the scale like min-max scaling would. Min-max scaling is heavily influenced by outliers as one extreme value(e.g. the one in the Grade of Spondylolisthesis column) causes scale to be stretched and all other values to be compressed together. As clustering algorithms are distance based, standardisation prevents features with larger values from dominating the algorithm- k-means clustering and hierarchical clustering are both sensitive to outliers, as is SVM."
   ]
  }
 ],
 "metadata": {
  "kernelspec": {
   "display_name": "Python 3",
   "language": "python",
   "name": "python3"
  },
  "language_info": {
   "codemirror_mode": {
    "name": "ipython",
    "version": 3
   },
   "file_extension": ".py",
   "mimetype": "text/x-python",
   "name": "python",
   "nbconvert_exporter": "python",
   "pygments_lexer": "ipython3",
   "version": "3.9.6"
  }
 },
 "nbformat": 4,
 "nbformat_minor": 5
}
